{
 "cells": [
  {
   "cell_type": "markdown",
   "id": "ce6f9299-bdfa-4e50-94fc-230653fad905",
   "metadata": {},
   "source": [
    "# DL Utility"
   ]
  },
  {
   "cell_type": "code",
   "execution_count": 9,
   "id": "b39f5c76-3a0a-427a-a06c-f8ea2a96aeea",
   "metadata": {},
   "outputs": [],
   "source": [
    "import torch\n",
    "from tqdm import tqdm_notebook as tqdm\n",
    "from time import time"
   ]
  },
  {
   "cell_type": "code",
   "execution_count": 10,
   "id": "9baf0c5d-897c-40cd-8131-6c9c2294dd60",
   "metadata": {},
   "outputs": [],
   "source": [
    "EPOCHS = 10\n",
    "NUM_CLASSES = 2\n",
    "BATCH_SIZE = 32"
   ]
  },
  {
   "cell_type": "code",
   "execution_count": 11,
   "id": "a39e8b34-0818-4ff0-a765-75d10dc81771",
   "metadata": {},
   "outputs": [],
   "source": [
    "DEVICE = \"cuda\" if torch.cuda.is_available() else \"cpu\""
   ]
  },
  {
   "cell_type": "code",
   "execution_count": 12,
   "id": "8b4e5733-7ca2-4b60-bd16-81bfbb43ac01",
   "metadata": {},
   "outputs": [],
   "source": [
    "# compute loss for the validation dataset\n",
    "def validate(val_dl, model, loss_fn, log=False, device=DEVICE):\n",
    "    model.to(device)\n",
    "    model.eval()\n",
    "    loss = 0\n",
    "    with torch.no_grad():\n",
    "        for _, (data, labels) in tqdm(enumerate(val_dl), total=len(val_dl)):\n",
    "            data = data.to(device)\n",
    "            labels = labels.to(device)\n",
    "            pred = model(data)\n",
    "            l = loss_fn(pred, labels)\n",
    "            loss += l.item() / len(val_dl)\n",
    "        if log:\n",
    "            print(f\"validate loss: {loss:>7f}\")\n",
    "    return loss"
   ]
  },
  {
   "cell_type": "code",
   "execution_count": 13,
   "id": "1c93828b-b09c-4d1f-a3e7-2d80545fc926",
   "metadata": {},
   "outputs": [],
   "source": [
    "# train and test\n",
    "# one step of training\n",
    "def train_step(X, y, model, loss_fn, optimizer):\n",
    "    pred = model(X)\n",
    "    loss = loss_fn(pred, y)\n",
    "    optimizer.zero_grad()\n",
    "    loss.backward()\n",
    "    optimizer.step()\n",
    "    return loss"
   ]
  },
  {
   "cell_type": "code",
   "execution_count": 14,
   "id": "756398ca-cd17-427e-9f41-78c0e0dfae8b",
   "metadata": {},
   "outputs": [],
   "source": [
    "# do one epoch\n",
    "def train_batches(train_dataloader, model, loss_fn, optimizer, log=False,\n",
    "                  device=DEVICE):\n",
    "    size = len(train_dataloader.dataset)\n",
    "    n_batch = len(train_dataloader)\n",
    "    for batch, (X, y) in tqdm(enumerate(train_dataloader), total=n_batch):\n",
    "        loss = train_step(X.to(device).float(), y.to(device), model,\n",
    "                          loss_fn, optimizer)\n",
    "        if log:\n",
    "            if batch % (n_batch//10) == 0:\n",
    "                l, current = loss.item(), batch * len(X)\n",
    "                print(f\"training loss: {l:>7f}  [{current}/{size}]\")\n",
    "    return loss"
   ]
  },
  {
   "cell_type": "code",
   "execution_count": 15,
   "id": "af660320-bcd2-474c-954e-35896b6f2ab3",
   "metadata": {},
   "outputs": [],
   "source": [
    "# run through epoch\n",
    "def train_epochs(train_dl, val_dl, model, loss_fn, optimizer, log=False,\n",
    "                 epochs=EPOCHS, device=DEVICE):\n",
    "    val_loss = validate(val_dl, model, loss_fn, log=log, device=device)\n",
    "    for t in range(epochs):\n",
    "        t = time()\n",
    "        print(f\"Epoch {t+1}\\n-------------------------------\")\n",
    "        loss = train_batches(train_dl, model, loss_fn, optimizer, log=log,\n",
    "                             device=device)\n",
    "        val_loss = validate(val_dl, model, loss_fn, log=log, device=device)\n",
    "        el = time() - t\n",
    "        print(f\"Train epoch in {el:.1f} sec\")\n",
    "    print('DONE!')\n",
    "    print(loss.item())\n",
    "    return model"
   ]
  },
  {
   "cell_type": "code",
   "execution_count": 16,
   "id": "051bf943-e534-44b2-935b-f504ad89138f",
   "metadata": {},
   "outputs": [],
   "source": [
    "# run the testing step\n",
    "def test(test_dl, model, device=DEVICE):\n",
    "    model.to(device)\n",
    "    model.eval()\n",
    "    res = []\n",
    "    with torch.no_grad():\n",
    "        for _, data in tqdm(enumerate(test_dl), total=len(test_dl)):\n",
    "            data = data.to(device)\n",
    "            pred = model(data)\n",
    "            res.extend(pred.tolist())\n",
    "    return res"
   ]
  },
  {
   "cell_type": "code",
   "execution_count": null,
   "id": "78561747-d969-47c5-ac5e-a3064d057c98",
   "metadata": {},
   "outputs": [],
   "source": []
  },
  {
   "cell_type": "code",
   "execution_count": null,
   "id": "c263cbab-931d-4839-a6e4-33180a617aac",
   "metadata": {},
   "outputs": [],
   "source": []
  }
 ],
 "metadata": {
  "kernelspec": {
   "display_name": "Python 3 (ipykernel)",
   "language": "python",
   "name": "python3"
  },
  "language_info": {
   "codemirror_mode": {
    "name": "ipython",
    "version": 3
   },
   "file_extension": ".py",
   "mimetype": "text/x-python",
   "name": "python",
   "nbconvert_exporter": "python",
   "pygments_lexer": "ipython3",
   "version": "3.8.12"
  }
 },
 "nbformat": 4,
 "nbformat_minor": 5
}
